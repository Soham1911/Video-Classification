{
 "cells": [
  {
   "cell_type": "code",
   "execution_count": 1,
   "metadata": {
    "collapsed": true
   },
   "outputs": [],
   "source": [
    "import numpy as np\n",
    "import pandas as pd\n",
    "import cv2\n",
    "import glob\n",
    "import os\n",
    "import time\n",
    "import sys\n",
    "import matplotlib.pyplot as plt\n",
    "import shutil"
   ]
  },
  {
   "cell_type": "code",
   "execution_count": 2,
   "metadata": {},
   "outputs": [
    {
     "name": "stdout",
     "output_type": "stream",
     "text": [
      "D:\\NN project\\NNFL_Training_Set\\NNFL_Training_Set\n"
     ]
    }
   ],
   "source": [
    "cwd = os.getcwd()\n",
    "print(cwd)\n",
    "#os.chdir(\"..\")"
   ]
  },
  {
   "cell_type": "code",
   "execution_count": 3,
   "metadata": {
    "collapsed": true
   },
   "outputs": [],
   "source": [
    "dirPath = cwd+\"/Golf-Swing-Back/\"\n",
    "folderlist = os.listdir(dirPath)"
   ]
  },
  {
   "cell_type": "code",
   "execution_count": 24,
   "metadata": {},
   "outputs": [
    {
     "name": "stdout",
     "output_type": "stream",
     "text": [
      "D:\\NN project\\NNFL_Training_Set\\NNFL_Training_Set\\Riding-Horse\n"
     ]
    }
   ],
   "source": [
    "print(os.getcwd())"
   ]
  },
  {
   "cell_type": "code",
   "execution_count": 22,
   "metadata": {
    "collapsed": true
   },
   "outputs": [],
   "source": [
    "os.chdir(\"..\")"
   ]
  },
  {
   "cell_type": "code",
   "execution_count": 20,
   "metadata": {
    "collapsed": true
   },
   "outputs": [],
   "source": [
    "def extractImages(pathIn, pathOut):\n",
    "    x = np.zeros((200,64,64,3))\n",
    "    count = 0\n",
    "    vidcap = cv2.VideoCapture(pathIn)\n",
    "    success,image = vidcap.read()\n",
    "    success = True\n",
    "    while success:\n",
    "      vidcap.set(cv2.CAP_PROP_POS_MSEC,(count*100))    # added this line \n",
    "      success,image = vidcap.read()\n",
    "      #print('Read a new frame: ', success)\n",
    "      cv2.imwrite( pathOut + \"/frame%d.jpg\" % count, image)     # save frame as JPEG file\n",
    "      image_path = os.path.join(pathOut,\"frame%d.jpg\" % count)\n",
    "      #print(image_path)\n",
    "      if os.path.exists(image_path):\n",
    "         img=cv2.imread(image_path)\n",
    "         if os.path.getsize(image_path) > 0:\n",
    "             img=cv2.resize(img,(64,64))\n",
    "             x[count]=img\n",
    "      count = count + 1\n",
    "    return x"
   ]
  },
  {
   "cell_type": "code",
   "execution_count": 25,
   "metadata": {},
   "outputs": [
    {
     "name": "stdout",
     "output_type": "stream",
     "text": [
      "3283-8_700741.avi\n",
      "3283-8_701201.avi\n",
      "7608-12_70275.avi\n",
      "RF1-13903_70070.avi\n"
     ]
    }
   ],
   "source": [
    "z=[]\n",
    "os.chdir(\"..\")\n",
    "dirPath = cwd+\"/Golf-Swing-Back/\"\n",
    "folderlist = os.listdir(dirPath)\n",
    "for x in folderlist:\n",
    "    if x[0]=='.':\n",
    "        continue\n",
    "    os.chdir(dirPath+x)\n",
    "    if os.path.exists(x):\n",
    "        shutil.rmtree(x)\n",
    "    os.mkdir(x)\n",
    "    Y=[]\n",
    "    for filename in os.listdir(os.getcwd()):\n",
    "        if filename.endswith(\".avi\"): \n",
    "            print(filename)\n",
    "            Y.append(extractImages(os.getcwd()+\"/\"+filename,os.getcwd()+\"/\"+x+\"/\"))\n",
    "    os.chdir(\"..\")\n",
    "    z.append([Y,[1,0,0,0,0,0,0,0,0,0,0,0]])"
   ]
  },
  {
   "cell_type": "code",
   "execution_count": 26,
   "metadata": {},
   "outputs": [
    {
     "name": "stdout",
     "output_type": "stream",
     "text": [
      "D:\\NN project\\NNFL_Training_Set\\NNFL_Training_Set\\Golf-Swing-Back\n"
     ]
    }
   ],
   "source": [
    "print(os.getcwd())"
   ]
  },
  {
   "cell_type": "code",
   "execution_count": 27,
   "metadata": {},
   "outputs": [
    {
     "name": "stdout",
     "output_type": "stream",
     "text": [
      "7603-4_70159.avi\n",
      "7608-9_70(2)151.avi\n",
      "RF1-13157_70040.avi\n",
      "RF1-13428_70288.avi\n",
      "RF1-13588_70046.avi\n",
      "RF1-13678_70045.avi\n"
     ]
    }
   ],
   "source": [
    "os.chdir(\"..\")\n",
    "dirPath = cwd+\"/Golf-Swing-Front/\"\n",
    "folderlist = os.listdir(dirPath)\n",
    "for x in folderlist:\n",
    "    if x[0]=='.':\n",
    "        continue\n",
    "    os.chdir(dirPath+x)\n",
    "    if os.path.exists(x):\n",
    "        shutil.rmtree(x)\n",
    "    os.mkdir(x)\n",
    "    Y=[]\n",
    "    for filename in os.listdir(os.getcwd()):\n",
    "        if filename.endswith(\".avi\"): \n",
    "            print(filename)\n",
    "            Y.append(extractImages(os.getcwd()+\"/\"+filename,os.getcwd()+\"/\"+x+\"/\"))\n",
    "    os.chdir(\"..\")\n",
    "    z.append([Y,[0,1,0,0,0,0,0,0,0,0,0,0]])"
   ]
  },
  {
   "cell_type": "code",
   "execution_count": 28,
   "metadata": {},
   "outputs": [
    {
     "name": "stdout",
     "output_type": "stream",
     "text": [
      "D:\\NN project\\NNFL_Training_Set\\NNFL_Training_Set\\Golf-Swing-Front\n"
     ]
    }
   ],
   "source": [
    "print(os.getcwd())"
   ]
  },
  {
   "cell_type": "code",
   "execution_count": 29,
   "metadata": {},
   "outputs": [
    {
     "name": "stdout",
     "output_type": "stream",
     "text": [
      "RF1-13207_7015.avi\n",
      "7608-5_70308.avi\n",
      "7608-5_70039.avi\n",
      "7606-2_700810.avi\n"
     ]
    }
   ],
   "source": [
    "os.chdir(\"..\")\n",
    "dirPath = cwd+\"/Golf-Swing-Side/\"\n",
    "folderlist = os.listdir(dirPath)\n",
    "for x in folderlist:\n",
    "    if x[0]=='.':\n",
    "        continue\n",
    "    os.chdir(dirPath+x)\n",
    "    if os.path.exists(x):\n",
    "        shutil.rmtree(x)\n",
    "    os.mkdir(x)\n",
    "    Y=[]\n",
    "    for filename in os.listdir(os.getcwd()):\n",
    "        if filename.endswith(\".avi\"): \n",
    "            print(filename)\n",
    "            Y.append(extractImages(os.getcwd()+\"/\"+filename,os.getcwd()+\"/\"+x+\"/\"))\n",
    "    os.chdir(\"..\")\n",
    "    z.append([Y,[0,0,1,0,0,0,0,0,0,0,0,0]])"
   ]
  },
  {
   "cell_type": "code",
   "execution_count": 30,
   "metadata": {},
   "outputs": [
    {
     "name": "stdout",
     "output_type": "stream",
     "text": [
      "D:\\NN project\\NNFL_Training_Set\\NNFL_Training_Set\\Golf-Swing-Side\n"
     ]
    }
   ],
   "source": [
    "print(os.getcwd())\n",
    "#os.chdir(\"../..\")"
   ]
  },
  {
   "cell_type": "code",
   "execution_count": 31,
   "metadata": {},
   "outputs": [
    {
     "name": "stdout",
     "output_type": "stream",
     "text": [
      "778-62_l146.avi\n",
      "1084-44_l865.avi\n",
      "3833-27_70006.avi\n",
      "3937-9_70105.avi\n",
      "3949-12_70207.avi\n",
      "5117-8_70113.avi\n",
      "6063-21_70056.avi\n",
      "6731-2_70017.avi\n"
     ]
    }
   ],
   "source": [
    "os.chdir(\"..\")\n",
    "dirPath = cwd+\"/Kicking-Front/\"\n",
    "folderlist = os.listdir(dirPath)\n",
    "for x in folderlist:\n",
    "    if x[0]=='.':\n",
    "        continue\n",
    "    os.chdir(dirPath+x)\n",
    "    if os.path.exists(x):\n",
    "        shutil.rmtree(x)\n",
    "    os.mkdir(x)\n",
    "    Y=[]\n",
    "    for filename in os.listdir(os.getcwd()):\n",
    "        if filename.endswith(\".avi\"): \n",
    "            print(filename)\n",
    "            Y.append(extractImages(os.getcwd()+\"/\"+filename,os.getcwd()+\"/\"+x+\"/\"))\n",
    "    os.chdir(\"..\")\n",
    "    z.append([Y,[0,0,0,1,0,0,0,0,0,0,0,0]])"
   ]
  },
  {
   "cell_type": "code",
   "execution_count": 32,
   "metadata": {},
   "outputs": [
    {
     "name": "stdout",
     "output_type": "stream",
     "text": [
      "D:\\NN project\\NNFL_Training_Set\\NNFL_Training_Set\\Kicking-Front\n",
      "D:\\NN project\\NNFL_Training_Set\\NNFL_Training_Set\n"
     ]
    }
   ],
   "source": [
    "print(os.getcwd())\n",
    "print(cwd)"
   ]
  },
  {
   "cell_type": "code",
   "execution_count": 33,
   "metadata": {},
   "outputs": [
    {
     "name": "stdout",
     "output_type": "stream",
     "text": [
      "3833-15_70577.avi\n",
      "3833-40_70336.avi\n",
      "3833-41_70187.avi\n",
      "5117-8_70350.avi\n",
      "5863-29_70025.avi\n",
      "6063-20_70333.avi\n",
      "6351-1_70011.avi\n",
      "RF1-16941_70021.avi\n"
     ]
    }
   ],
   "source": [
    "os.chdir(\"..\")\n",
    "dirPath = cwd+\"/Kicking-Side/\"\n",
    "folderlist = os.listdir(dirPath)\n",
    "for x in folderlist:\n",
    "    if x[0]=='.':\n",
    "        continue\n",
    "    os.chdir(dirPath+x)\n",
    "    if os.path.exists(x):\n",
    "        shutil.rmtree(x)\n",
    "    os.mkdir(x)\n",
    "    Y=[]\n",
    "    for filename in os.listdir(os.getcwd()):\n",
    "        if filename.endswith(\".avi\"): \n",
    "            print(filename)\n",
    "            Y.append(extractImages(os.getcwd()+\"/\"+filename,os.getcwd()+\"/\"+x+\"/\"))\n",
    "    os.chdir(\"..\")\n",
    "    z.append([Y,[0,0,0,0,1,0,0,0,0,0,0,0]])"
   ]
  },
  {
   "cell_type": "code",
   "execution_count": 34,
   "metadata": {},
   "outputs": [
    {
     "name": "stdout",
     "output_type": "stream",
     "text": [
      "3528-8_70514.avi\n",
      "2502-2_70340.avi\n",
      "3528-6_70(2)268.avi\n",
      "3528-6_70270.avi\n",
      "3528-10_70424.avi\n"
     ]
    }
   ],
   "source": [
    "os.chdir(\"..\")\n",
    "dirPath = cwd+\"/Lifting/\"\n",
    "folderlist = os.listdir(dirPath)\n",
    "for x in folderlist:\n",
    "    if x[0]=='.':\n",
    "        continue\n",
    "    os.chdir(dirPath+x)\n",
    "    if os.path.exists(x):\n",
    "        shutil.rmtree(x)\n",
    "    os.mkdir(x)\n",
    "    Y=[]\n",
    "    for filename in os.listdir(os.getcwd()):\n",
    "        if filename.endswith(\".avi\"): \n",
    "            print(filename)\n",
    "            Y.append(extractImages(os.getcwd()+\"/\"+filename,os.getcwd()+\"/\"+x+\"/\"))\n",
    "    os.chdir(\"..\")\n",
    "    z.append([Y,[0,0,0,0,0,1,0,0,0,0,0,0]])"
   ]
  },
  {
   "cell_type": "code",
   "execution_count": 35,
   "metadata": {},
   "outputs": [
    {
     "name": "stdout",
     "output_type": "stream",
     "text": [
      "4456-16_700040.avi\n",
      "4456-16_700165.avi\n",
      "4456-16_700273.avi\n",
      "4456-16_700406.avi\n",
      "4456-16_700516.avi\n",
      "6018-29_70000.avi\n",
      "6029-1_70001.avi\n",
      "RF1-12001_70063.avi\n",
      "1098-6_70000.avi\n",
      "7467-18_70103.avi\n"
     ]
    }
   ],
   "source": [
    "os.chdir(\"..\")\n",
    "dirPath = cwd+\"/Riding-Horse/\"\n",
    "folderlist = os.listdir(dirPath)\n",
    "for x in folderlist:\n",
    "    if x[0]=='.':\n",
    "        continue\n",
    "    os.chdir(dirPath+x)\n",
    "    if os.path.exists(x):\n",
    "        shutil.rmtree(x)\n",
    "    os.mkdir(x)\n",
    "    Y=[]\n",
    "    for filename in os.listdir(os.getcwd()):\n",
    "        if filename.endswith(\".avi\"): \n",
    "            print(filename)\n",
    "            Y.append(extractImages(os.getcwd()+\"/\"+filename,os.getcwd()+\"/\"+x+\"/\"))\n",
    "    os.chdir(\"..\")\n",
    "    z.append([Y,[0,0,0,0,0,0,1,0,0,0,0,0]])"
   ]
  },
  {
   "cell_type": "code",
   "execution_count": 36,
   "metadata": {},
   "outputs": [
    {
     "name": "stdout",
     "output_type": "stream",
     "text": [
      "2670-5_70111.avi\n",
      "5238-17_700000.avi\n",
      "5238-17_700641.avi\n",
      "5238-17_700950.avi\n",
      "5238-17_701581.avi\n",
      "5238-17_701141.avi\n",
      "6065-8_70110.avi\n",
      "7850-5_70090.avi\n",
      "3687-17_70245.avi\n",
      "5373-10_70026.avi\n",
      "5020-1_70062.avi\n"
     ]
    }
   ],
   "source": [
    "os.chdir(\"..\")\n",
    "dirPath = cwd+\"/Running/\"\n",
    "folderlist = os.listdir(dirPath)\n",
    "for x in folderlist:\n",
    "    if x[0]=='.':\n",
    "        continue\n",
    "    os.chdir(dirPath+x)\n",
    "    if os.path.exists(x):\n",
    "        shutil.rmtree(x)\n",
    "    os.mkdir(x)\n",
    "    Y=[]\n",
    "    for filename in os.listdir(os.getcwd()):\n",
    "        if filename.endswith(\".avi\"): \n",
    "            print(filename)\n",
    "            Y.append(extractImages(os.getcwd()+\"/\"+filename,os.getcwd()+\"/\"+x+\"/\"))\n",
    "    os.chdir(\"..\")\n",
    "    z.append([Y,[0,0,0,0,0,0,0,1,0,0,0,0]])"
   ]
  },
  {
   "cell_type": "code",
   "execution_count": 37,
   "metadata": {},
   "outputs": [
    {
     "name": "stdout",
     "output_type": "stream",
     "text": [
      "708-75070.avi\n",
      "708-77009.avi\n",
      "711-66044.avi\n",
      "761-39000.avi\n",
      "860-2001.avi\n",
      "860-2729.avi\n",
      "860-37150.avi\n",
      "860-38064.avi\n",
      "947-58108.avi\n",
      "947-70005.avi\n"
     ]
    }
   ],
   "source": [
    "os.chdir(\"..\")\n",
    "dirPath = cwd+\"/SkateBoarding/\"\n",
    "folderlist = os.listdir(dirPath)\n",
    "for x in folderlist:\n",
    "    if x[0]=='.':\n",
    "        continue\n",
    "    os.chdir(dirPath+x)\n",
    "    if os.path.exists(x):\n",
    "        shutil.rmtree(x)\n",
    "    os.mkdir(x)\n",
    "    Y=[]\n",
    "    for filename in os.listdir(os.getcwd()):\n",
    "        if filename.endswith(\".avi\"): \n",
    "            print(filename)\n",
    "            Y.append(extractImages(os.getcwd()+\"/\"+filename,os.getcwd()+\"/\"+x+\"/\"))\n",
    "    os.chdir(\"..\")\n",
    "    z.append([Y,[0,0,0,0,0,0,0,0,1,0,0,0]])"
   ]
  },
  {
   "cell_type": "code",
   "execution_count": 38,
   "metadata": {},
   "outputs": [
    {
     "name": "stdout",
     "output_type": "stream",
     "text": [
      "669-60084.avi\n",
      "669-60176.avi\n",
      "669-60220.avi\n",
      "669-67070.avi\n",
      "669-67178.avi\n",
      "2527-5_70020.avi\n",
      "2527-5_70114.avi\n",
      "2527-9_70018.avi\n",
      "2527-9_70087.avi\n",
      "2527-9_70267.avi\n",
      "2527-12_70137.avi\n",
      "2527-12_70186.avi\n",
      "2527-12_70461.avi\n",
      "2527-12_70526.avi\n",
      "2527-12_70574.avi\n",
      "2527-12_70641.avi\n",
      "4379-9_70018.avi\n"
     ]
    }
   ],
   "source": [
    "os.chdir(\"..\")\n",
    "dirPath = cwd+\"/Swing-Bench/\"\n",
    "folderlist = os.listdir(dirPath)\n",
    "for x in folderlist:\n",
    "    if x[0]=='.':\n",
    "        continue\n",
    "    os.chdir(dirPath+x)\n",
    "    if os.path.exists(x):\n",
    "        shutil.rmtree(x)\n",
    "    os.mkdir(x)\n",
    "    Y=[]\n",
    "    for filename in os.listdir(os.getcwd()):\n",
    "        if filename.endswith(\".avi\"): \n",
    "            print(filename)\n",
    "            Y.append(extractImages(os.getcwd()+\"/\"+filename,os.getcwd()+\"/\"+x+\"/\"))\n",
    "    os.chdir(\"..\")\n",
    "    z.append([Y,[0,0,0,0,0,0,0,0,0,1,0,0]])"
   ]
  },
  {
   "cell_type": "code",
   "execution_count": 39,
   "metadata": {},
   "outputs": [
    {
     "name": "stdout",
     "output_type": "stream",
     "text": [
      "vid1_0117.avi\n",
      "vid1_0461.avi\n",
      "vid6_025.avi\n",
      "vid6_214.avi\n",
      "vid8_0500.avi\n",
      "vid8_0685.avi\n",
      "4367-6_70167.avi\n",
      "vid1_0302.avi\n",
      "vid1_0377.avi\n",
      "vid1_0674.avi\n",
      "vid1_0855.avi\n"
     ]
    }
   ],
   "source": [
    "os.chdir(\"..\")\n",
    "dirPath = cwd+\"/Swing-SideAngle/\"\n",
    "folderlist = os.listdir(dirPath)\n",
    "for x in folderlist:\n",
    "    if x[0]=='.':\n",
    "        continue\n",
    "    os.chdir(dirPath+x)\n",
    "    if os.path.exists(x):\n",
    "        shutil.rmtree(x)\n",
    "    os.mkdir(x)\n",
    "    Y=[]\n",
    "    for filename in os.listdir(os.getcwd()):\n",
    "        if filename.endswith(\".avi\"): \n",
    "            print(filename)\n",
    "            Y.append(extractImages(os.getcwd()+\"/\"+filename,os.getcwd()+\"/\"+x+\"/\"))\n",
    "    os.chdir(\"..\")\n",
    "    z.append([Y,[0,0,0,0,0,0,0,0,0,0,1,0]])"
   ]
  },
  {
   "cell_type": "code",
   "execution_count": 40,
   "metadata": {},
   "outputs": [
    {
     "name": "stdout",
     "output_type": "stream",
     "text": [
      "3206-12_70000.avi\n",
      "5561-7_70102.avi\n",
      "RF1-10578_70285.avi\n",
      "RF1-10799_70080.avi\n",
      "RF1-15295_70060.avi\n",
      "RF1-15341_70050.avi\n",
      "RF1-18075_70140.avi\n",
      "RF1-18085_70010.avi\n",
      "RF1-18156_70301.avi\n",
      "RF1-18524_70031.avi\n",
      "RF1-18526_70364.avi\n",
      "RF1-18566_700411.avi\n",
      "RF1-18566_700560.avi\n",
      "RF1-18598_70075.avi\n",
      "RF1-18598_70530.avi\n",
      "RF1-18602_70140.avi\n",
      "RF1-13204_70095.avi\n",
      "RF1-13205_70100.avi\n",
      "7608-3_70626.avi\n"
     ]
    }
   ],
   "source": [
    "os.chdir(\"..\")\n",
    "dirPath = cwd+\"/Walking/\"\n",
    "folderlist = os.listdir(dirPath)\n",
    "for x in folderlist:\n",
    "    if x[0]=='.':\n",
    "        continue\n",
    "    os.chdir(dirPath+x)\n",
    "    if os.path.exists(x):\n",
    "        shutil.rmtree(x)\n",
    "    os.mkdir(x)\n",
    "    Y=[]\n",
    "    for filename in os.listdir(os.getcwd()):\n",
    "        if filename.endswith(\".avi\"): \n",
    "            print(filename)\n",
    "            Y.append(extractImages(os.getcwd()+\"/\"+filename,os.getcwd()+\"/\"+x+\"/\"))\n",
    "    os.chdir(\"..\")\n",
    "    z.append([Y,[0,0,0,0,0,0,0,0,0,0,0,1]])"
   ]
  },
  {
   "cell_type": "code",
   "execution_count": 41,
   "metadata": {},
   "outputs": [
    {
     "name": "stdout",
     "output_type": "stream",
     "text": [
      "D:\\NN project\\NNFL_Training_Set\\NNFL_Training_Set\n"
     ]
    }
   ],
   "source": [
    "os.chdir(\"..\")\n",
    "print(os.getcwd())"
   ]
  },
  {
   "cell_type": "code",
   "execution_count": 42,
   "metadata": {},
   "outputs": [
    {
     "name": "stdout",
     "output_type": "stream",
     "text": [
      "[[array([[[[  28.,   42.,   40.],\n",
      "         [  26.,   33.,   30.],\n",
      "         [  22.,   29.,   26.],\n",
      "         ..., \n",
      "         [  18.,   19.,   19.],\n",
      "         [  18.,   19.,   19.],\n",
      "         [  25.,   30.,   29.]],\n",
      "\n",
      "        [[  21.,   32.,   30.],\n",
      "         [  25.,   31.,   28.],\n",
      "         [  16.,   23.,   20.],\n",
      "         ..., \n",
      "         [  15.,   20.,   19.],\n",
      "         [  24.,   29.,   28.],\n",
      "         [  25.,   30.,   29.]],\n",
      "\n",
      "        [[  19.,   27.,   25.],\n",
      "         [  15.,   22.,   19.],\n",
      "         [  16.,   23.,   20.],\n",
      "         ..., \n",
      "         [  12.,   18.,   17.],\n",
      "         [  24.,   30.,   29.],\n",
      "         [  25.,   30.,   29.]],\n",
      "\n",
      "        ..., \n",
      "        [[  74.,  111.,  116.],\n",
      "         [  64.,  102.,  104.],\n",
      "         [  62.,  100.,  102.],\n",
      "         ..., \n",
      "         [  55.,   96.,   89.],\n",
      "         [  52.,   93.,   86.],\n",
      "         [  51.,   92.,   85.]],\n",
      "\n",
      "        [[  70.,  108.,  108.],\n",
      "         [  55.,   93.,   93.],\n",
      "         [  57.,   95.,   95.],\n",
      "         ..., \n",
      "         [  49.,   90.,   83.],\n",
      "         [  61.,  102.,   95.],\n",
      "         [  52.,   93.,   86.]],\n",
      "\n",
      "        [[  73.,  114.,  116.],\n",
      "         [  70.,  106.,  112.],\n",
      "         [  73.,  110.,  116.],\n",
      "         ..., \n",
      "         [  49.,   93.,   86.],\n",
      "         [  55.,   93.,   91.],\n",
      "         [  52.,   94.,   88.]]],\n",
      "\n",
      "\n",
      "       [[[  26.,   40.,   38.],\n",
      "         [  26.,   33.,   30.],\n",
      "         [  22.,   29.,   26.],\n",
      "         ..., \n",
      "         [  18.,   19.,   19.],\n",
      "         [  18.,   19.,   19.],\n",
      "         [  25.,   30.,   29.]],\n",
      "\n",
      "        [[  22.,   33.,   31.],\n",
      "         [  25.,   31.,   28.],\n",
      "         [  16.,   23.,   20.],\n",
      "         ..., \n",
      "         [  15.,   20.,   19.],\n",
      "         [  24.,   29.,   28.],\n",
      "         [  25.,   30.,   29.]],\n",
      "\n",
      "        [[  20.,   28.,   27.],\n",
      "         [  15.,   22.,   19.],\n",
      "         [  16.,   23.,   20.],\n",
      "         ..., \n",
      "         [  12.,   18.,   17.],\n",
      "         [  24.,   30.,   29.],\n",
      "         [  25.,   30.,   29.]],\n",
      "\n",
      "        ..., \n",
      "        [[  74.,  111.,  116.],\n",
      "         [  64.,  102.,  104.],\n",
      "         [  62.,  100.,  102.],\n",
      "         ..., \n",
      "         [  55.,   95.,   89.],\n",
      "         [  52.,   93.,   87.],\n",
      "         [  51.,   92.,   85.]],\n",
      "\n",
      "        [[  70.,  108.,  108.],\n",
      "         [  55.,   93.,   93.],\n",
      "         [  57.,   95.,   95.],\n",
      "         ..., \n",
      "         [  50.,   91.,   84.],\n",
      "         [  60.,  101.,   94.],\n",
      "         [  52.,   93.,   86.]],\n",
      "\n",
      "        [[  73.,  114.,  116.],\n",
      "         [  70.,  106.,  112.],\n",
      "         [  73.,  110.,  116.],\n",
      "         ..., \n",
      "         [  52.,   92.,   85.],\n",
      "         [  57.,   92.,   90.],\n",
      "         [  52.,   94.,   88.]]],\n",
      "\n",
      "\n",
      "       [[[  26.,   39.,   37.],\n",
      "         [  26.,   33.,   30.],\n",
      "         [  22.,   30.,   27.],\n",
      "         ..., \n",
      "         [  18.,   19.,   19.],\n",
      "         [  18.,   19.,   19.],\n",
      "         [  25.,   30.,   29.]],\n",
      "\n",
      "        [[  22.,   33.,   31.],\n",
      "         [  24.,   30.,   28.],\n",
      "         [  15.,   23.,   20.],\n",
      "         ..., \n",
      "         [  15.,   20.,   19.],\n",
      "         [  24.,   29.,   28.],\n",
      "         [  25.,   30.,   29.]],\n",
      "\n",
      "        [[  18.,   26.,   24.],\n",
      "         [  15.,   22.,   19.],\n",
      "         [  15.,   23.,   20.],\n",
      "         ..., \n",
      "         [  12.,   18.,   17.],\n",
      "         [  24.,   30.,   29.],\n",
      "         [  25.,   30.,   29.]],\n",
      "\n",
      "        ..., \n",
      "        [[  74.,  111.,  116.],\n",
      "         [  64.,  102.,  104.],\n",
      "         [  62.,  100.,  102.],\n",
      "         ..., \n",
      "         [  54.,   95.,   88.],\n",
      "         [  50.,   91.,   84.],\n",
      "         [  51.,   92.,   85.]],\n",
      "\n",
      "        [[  70.,  108.,  108.],\n",
      "         [  55.,   93.,   93.],\n",
      "         [  57.,   95.,   95.],\n",
      "         ..., \n",
      "         [  49.,   90.,   83.],\n",
      "         [  59.,  100.,   93.],\n",
      "         [  52.,   93.,   86.]],\n",
      "\n",
      "        [[  70.,  110.,  113.],\n",
      "         [  80.,  104.,  112.],\n",
      "         [  64.,  112.,  116.],\n",
      "         ..., \n",
      "         [  53.,   92.,   85.],\n",
      "         [  50.,   92.,   87.],\n",
      "         [  53.,   94.,   88.]]],\n",
      "\n",
      "\n",
      "       ..., \n",
      "       [[[   0.,    0.,    0.],\n",
      "         [   0.,    0.,    0.],\n",
      "         [   0.,    0.,    0.],\n",
      "         ..., \n",
      "         [   0.,    0.,    0.],\n",
      "         [   0.,    0.,    0.],\n",
      "         [   0.,    0.,    0.]],\n",
      "\n",
      "        [[   0.,    0.,    0.],\n",
      "         [   0.,    0.,    0.],\n",
      "         [   0.,    0.,    0.],\n",
      "         ..., \n",
      "         [   0.,    0.,    0.],\n",
      "         [   0.,    0.,    0.],\n",
      "         [   0.,    0.,    0.]],\n",
      "\n",
      "        [[   0.,    0.,    0.],\n",
      "         [   0.,    0.,    0.],\n",
      "         [   0.,    0.,    0.],\n",
      "         ..., \n",
      "         [   0.,    0.,    0.],\n",
      "         [   0.,    0.,    0.],\n",
      "         [   0.,    0.,    0.]],\n",
      "\n",
      "        ..., \n",
      "        [[   0.,    0.,    0.],\n",
      "         [   0.,    0.,    0.],\n",
      "         [   0.,    0.,    0.],\n",
      "         ..., \n",
      "         [   0.,    0.,    0.],\n",
      "         [   0.,    0.,    0.],\n",
      "         [   0.,    0.,    0.]],\n",
      "\n",
      "        [[   0.,    0.,    0.],\n",
      "         [   0.,    0.,    0.],\n",
      "         [   0.,    0.,    0.],\n",
      "         ..., \n",
      "         [   0.,    0.,    0.],\n",
      "         [   0.,    0.,    0.],\n",
      "         [   0.,    0.,    0.]],\n",
      "\n",
      "        [[   0.,    0.,    0.],\n",
      "         [   0.,    0.,    0.],\n",
      "         [   0.,    0.,    0.],\n",
      "         ..., \n",
      "         [   0.,    0.,    0.],\n",
      "         [   0.,    0.,    0.],\n",
      "         [   0.,    0.,    0.]]],\n",
      "\n",
      "\n",
      "       [[[   0.,    0.,    0.],\n",
      "         [   0.,    0.,    0.],\n",
      "         [   0.,    0.,    0.],\n",
      "         ..., \n",
      "         [   0.,    0.,    0.],\n",
      "         [   0.,    0.,    0.],\n",
      "         [   0.,    0.,    0.]],\n",
      "\n",
      "        [[   0.,    0.,    0.],\n",
      "         [   0.,    0.,    0.],\n",
      "         [   0.,    0.,    0.],\n",
      "         ..., \n",
      "         [   0.,    0.,    0.],\n",
      "         [   0.,    0.,    0.],\n",
      "         [   0.,    0.,    0.]],\n",
      "\n",
      "        [[   0.,    0.,    0.],\n",
      "         [   0.,    0.,    0.],\n",
      "         [   0.,    0.,    0.],\n",
      "         ..., \n",
      "         [   0.,    0.,    0.],\n",
      "         [   0.,    0.,    0.],\n",
      "         [   0.,    0.,    0.]],\n",
      "\n",
      "        ..., \n",
      "        [[   0.,    0.,    0.],\n",
      "         [   0.,    0.,    0.],\n",
      "         [   0.,    0.,    0.],\n",
      "         ..., \n",
      "         [   0.,    0.,    0.],\n",
      "         [   0.,    0.,    0.],\n",
      "         [   0.,    0.,    0.]],\n",
      "\n",
      "        [[   0.,    0.,    0.],\n",
      "         [   0.,    0.,    0.],\n",
      "         [   0.,    0.,    0.],\n",
      "         ..., \n",
      "         [   0.,    0.,    0.],\n",
      "         [   0.,    0.,    0.],\n",
      "         [   0.,    0.,    0.]],\n",
      "\n",
      "        [[   0.,    0.,    0.],\n",
      "         [   0.,    0.,    0.],\n",
      "         [   0.,    0.,    0.],\n",
      "         ..., \n",
      "         [   0.,    0.,    0.],\n",
      "         [   0.,    0.,    0.],\n",
      "         [   0.,    0.,    0.]]],\n",
      "\n",
      "\n",
      "       [[[   0.,    0.,    0.],\n",
      "         [   0.,    0.,    0.],\n",
      "         [   0.,    0.,    0.],\n",
      "         ..., \n",
      "         [   0.,    0.,    0.],\n",
      "         [   0.,    0.,    0.],\n",
      "         [   0.,    0.,    0.]],\n",
      "\n",
      "        [[   0.,    0.,    0.],\n",
      "         [   0.,    0.,    0.],\n",
      "         [   0.,    0.,    0.],\n",
      "         ..., \n",
      "         [   0.,    0.,    0.],\n",
      "         [   0.,    0.,    0.],\n",
      "         [   0.,    0.,    0.]],\n",
      "\n",
      "        [[   0.,    0.,    0.],\n",
      "         [   0.,    0.,    0.],\n",
      "         [   0.,    0.,    0.],\n",
      "         ..., \n",
      "         [   0.,    0.,    0.],\n",
      "         [   0.,    0.,    0.],\n",
      "         [   0.,    0.,    0.]],\n",
      "\n",
      "        ..., \n",
      "        [[   0.,    0.,    0.],\n",
      "         [   0.,    0.,    0.],\n",
      "         [   0.,    0.,    0.],\n",
      "         ..., \n",
      "         [   0.,    0.,    0.],\n",
      "         [   0.,    0.,    0.],\n",
      "         [   0.,    0.,    0.]],\n",
      "\n",
      "        [[   0.,    0.,    0.],\n",
      "         [   0.,    0.,    0.],\n",
      "         [   0.,    0.,    0.],\n",
      "         ..., \n",
      "         [   0.,    0.,    0.],\n",
      "         [   0.,    0.,    0.],\n",
      "         [   0.,    0.,    0.]],\n",
      "\n",
      "        [[   0.,    0.,    0.],\n",
      "         [   0.,    0.,    0.],\n",
      "         [   0.,    0.,    0.],\n",
      "         ..., \n",
      "         [   0.,    0.,    0.],\n",
      "         [   0.,    0.,    0.],\n",
      "         [   0.,    0.,    0.]]]])], [1, 0, 0, 0, 0, 0, 0, 0, 0, 0, 0, 0]]\n"
     ]
    }
   ],
   "source": [
    "print(z[0])"
   ]
  }
 ],
 "metadata": {
  "kernelspec": {
   "display_name": "Python 3",
   "language": "python",
   "name": "python3"
  },
  "language_info": {
   "codemirror_mode": {
    "name": "ipython",
    "version": 3
   },
   "file_extension": ".py",
   "mimetype": "text/x-python",
   "name": "python",
   "nbconvert_exporter": "python",
   "pygments_lexer": "ipython3",
   "version": "3.6.1"
  }
 },
 "nbformat": 4,
 "nbformat_minor": 2
}
